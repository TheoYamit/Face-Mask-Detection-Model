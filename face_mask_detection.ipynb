{
 "cells": [
  {
   "cell_type": "code",
   "execution_count": 5,
   "metadata": {},
   "outputs": [],
   "source": [
    "#--------------------\n",
    "# Preprocessing the data\n",
    "# -------------------\n",
    "import tensorflow as tensor\n",
    "from tensorflow import keras\n",
    "import os\n",
    "import cv2\n",
    "import numpy as np\n",
    "\n",
    "# Setting the path to the dataset directory \n",
    "dir_of_data = 'train'\n",
    "\n",
    "# Empty lists to store the images and the label \n",
    "images = []\n",
    "labels = []\n",
    "\n",
    "# Looping over the files in the the dataset directory for preprocessing\n",
    "for filename in os.listdir(dir_of_data):\n",
    "\n",
    "    # This is adding the filename to the path of the dataset to make the full path of the file.\n",
    "    filepath = os.path.join(dir_of_data, filename)\n",
    "    # print(f\"Processing: {filepath}\")\n",
    "\n",
    "    image = cv2.imread(filepath)\n",
    "\n",
    "    # if image is None:\n",
    "        # print(f\"Failed to load image: {filepath}\")\n",
    "        # continue\n",
    "\n",
    "    # if image.shape[0] == 0 or image.shape[1] == 0:\n",
    "        # print(f\"Image dimensions are invalid: {filepath}\")\n",
    "        # continue\n",
    "\n",
    "    image = cv2.resize(image, (224, 224))\n",
    "    image = image.astype('float32') / 255.0\n",
    "\n",
    "    if 'with-mask' in filename:\n",
    "        label = 1\n",
    "    else:\n",
    "        label = 0\n",
    "\n",
    "    images.append(image)\n",
    "    labels.append(label)\n",
    "\n",
    "x = np.array(images)\n",
    "y = np.array(labels)"
   ]
  },
  {
   "cell_type": "code",
   "execution_count": 7,
   "metadata": {},
   "outputs": [],
   "source": [
    "from tensorflow import keras\n",
    "\n",
    "# Defining the model that I will be training\n",
    "\n",
    "model = keras.Sequential([\n",
    "    keras.layers.Conv2D(32, (3, 3), activation = 'relu', input_shape = (224, 224, 3)),\n",
    "    keras.layers.MaxPooling2D((2, 2)), \n",
    "    keras.layers.Conv2D(64, (3, 3), activation = 'relu'),\n",
    "    keras.layers.MaxPooling2D((2, 2)),\n",
    "    keras.layers.Conv2D(128, (3, 3), activation = 'relu'),\n",
    "    keras.layers.MaxPooling2D((2, 2)),\n",
    "    keras.layers.Flatten(),\n",
    "    keras.layers.Dense(128, activation = 'relu'),\n",
    "    keras.layers.Dense(1, activation = 'sigmoid')\n",
    "])\n",
    "\n",
    "model.compile(optimizer='adam', loss='binary_crossentropy', metrics=['accuracy'])"
   ]
  },
  {
   "cell_type": "code",
   "execution_count": 8,
   "metadata": {},
   "outputs": [
    {
     "name": "stdout",
     "output_type": "stream",
     "text": [
      "Epoch 1/10\n",
      "32/32 [==============================] - 69s 2s/step - loss: 0.8180 - accuracy: 0.6158 - val_loss: 0.6117 - val_accuracy: 0.6836\n",
      "Epoch 2/10\n",
      "32/32 [==============================] - 54s 2s/step - loss: 0.4047 - accuracy: 0.8328 - val_loss: 0.5647 - val_accuracy: 0.7031\n",
      "Epoch 3/10\n",
      "32/32 [==============================] - 53s 2s/step - loss: 0.3291 - accuracy: 0.8651 - val_loss: 0.4442 - val_accuracy: 0.7188\n",
      "Epoch 4/10\n",
      "32/32 [==============================] - 52s 2s/step - loss: 0.2628 - accuracy: 0.8983 - val_loss: 0.7969 - val_accuracy: 0.6797\n",
      "Epoch 5/10\n",
      "32/32 [==============================] - 52s 2s/step - loss: 0.2180 - accuracy: 0.9110 - val_loss: 0.4322 - val_accuracy: 0.7578\n",
      "Epoch 6/10\n",
      "32/32 [==============================] - 53s 2s/step - loss: 0.1801 - accuracy: 0.9286 - val_loss: 0.6794 - val_accuracy: 0.7305\n",
      "Epoch 7/10\n",
      "32/32 [==============================] - 53s 2s/step - loss: 0.1528 - accuracy: 0.9374 - val_loss: 0.8627 - val_accuracy: 0.6680\n",
      "Epoch 8/10\n",
      "32/32 [==============================] - 50s 2s/step - loss: 0.1455 - accuracy: 0.9335 - val_loss: 1.5153 - val_accuracy: 0.6523\n",
      "Epoch 9/10\n",
      "32/32 [==============================] - 51s 2s/step - loss: 0.1055 - accuracy: 0.9580 - val_loss: 1.6028 - val_accuracy: 0.6406\n",
      "Epoch 10/10\n",
      "32/32 [==============================] - 51s 2s/step - loss: 0.1280 - accuracy: 0.9580 - val_loss: 0.7751 - val_accuracy: 0.6992\n"
     ]
    },
    {
     "data": {
      "text/plain": [
       "<keras.src.callbacks.History at 0x283310e0910>"
      ]
     },
     "execution_count": 8,
     "metadata": {},
     "output_type": "execute_result"
    }
   ],
   "source": [
    "# Training the model\n",
    "model.fit(x, y, epochs = 10, batch_size = 32, validation_split = 0.2)"
   ]
  },
  {
   "cell_type": "code",
   "execution_count": 10,
   "metadata": {},
   "outputs": [
    {
     "name": "stdout",
     "output_type": "stream",
     "text": [
      "INFO:tensorflow:Assets written to: model1\\assets\n"
     ]
    },
    {
     "name": "stderr",
     "output_type": "stream",
     "text": [
      "INFO:tensorflow:Assets written to: model1\\assets\n"
     ]
    }
   ],
   "source": [
    "# Saving the current model.\n",
    "model.save('model1')"
   ]
  },
  {
   "cell_type": "code",
   "execution_count": null,
   "metadata": {},
   "outputs": [],
   "source": []
  }
 ],
 "metadata": {
  "kernelspec": {
   "display_name": "Python 3",
   "language": "python",
   "name": "python3"
  },
  "language_info": {
   "codemirror_mode": {
    "name": "ipython",
    "version": 3
   },
   "file_extension": ".py",
   "mimetype": "text/x-python",
   "name": "python",
   "nbconvert_exporter": "python",
   "pygments_lexer": "ipython3",
   "version": "3.11.4"
  },
  "orig_nbformat": 4
 },
 "nbformat": 4,
 "nbformat_minor": 2
}
